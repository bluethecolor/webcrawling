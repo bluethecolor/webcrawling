{
 "cells": [
  {
   "cell_type": "markdown",
   "id": "787434b0-1096-47ce-9c3b-3205c7418108",
   "metadata": {},
   "source": [
    "# BeautifulSoup\n",
    "- HTML 문서에서 원하는 부분출 추출해내는 라이브러리\n",
    "- 'requests'는 HTML을 텍스트 형태로 출력할 뿐이지 실제 HTML 태그를 다루지는 않는다.\n",
    "- BeautifulSoup 라이브러리는 위의 텍스트 결과를 실제 HTML 코드로 변환해준다. "
   ]
  },
  {
   "attachments": {},
   "cell_type": "markdown",
   "id": "140c1e4a-fc34-454b-881b-732f6926acf4",
   "metadata": {},
   "source": [
    "## BeautifulSoup\n",
    "- BeautifulSoup()\n",
    "    - 문자열 HTML 코드를 실제 HTML 코드로 변환해주는 함수\n",
    "\n",
    "    ```python\n",
    "    BeautifulSoup(문자열, 'html.parser')\n",
    "    # 문자열을 HTML 코드로 해석해서 읽어라\n",
    "    ```\n",
    "\n",
    "- find_all()\n",
    "    - HTML 코드에서 우리가 원하는 부분을 모두 가져오는 함수\n",
    "    - 원하는 부분을 지정할 때 사용하는 것은 태그와  Selector\n",
    "    - 해당 태그의 모든 HTML 코드를 리스트 형태로 반환\n",
    "\n",
    "    ```python\n",
    "    # <div id=\"example1\">\n",
    "    실제HTML코드.find_all(\"div\") # 태그 이름\n",
    "    실제HTML코드.find_all(id=\"example1\") # 선택자 정보\n",
    "\n",
    "    # <div id=\"example1\">, <span class=\"example2\">\n",
    "    실제HTML코드.find_all([\"div\", \"span\"]) # 태그 이름\n",
    "    실제HTML코드.find_all(attrs = {\"id\":\"example1\", \"class\":\"example2\"}) # 선택자 정보\n",
    "    ```\n",
    "\n",
    "\n",
    "\n",
    "- find()\n",
    "    - 하나의 부분만 가져오는 함수\n",
    "\n",
    "    ```python\n",
    "    # <div id=\"example1\">\n",
    "    실제HTML코드.find(\"div\") # 태그 이름\n",
    "    실제HTML코드.find(id=\"example1\") # 선택자 정보\n",
    "    실제HTML코드.find(attrs = {\"id\":\"example1\"}) # 선택자 정보\n",
    "    실제HTML코드.find(attrs = {\"class\":\"example1\"})\n",
    "    실제HTML코드.find(\"div\", {\"id\":\"example1\"}) # 태그 이름 + 선택자 정보\n",
    "    실제HTML코드.find('div', {\"class\":\"example1\"})\n",
    "    ```"
   ]
  },
  {
   "cell_type": "markdown",
   "id": "b4fb138f-c40b-4a43-a981-9dbcd5eaadb2",
   "metadata": {},
   "source": [
    "# 함수 find() vs find_all()\n",
    "- 두 함수의 차이점을 이해하면 효율적으로 크롤링을 할수 있다. \n",
    "- 로또 당첨 번호를 조회해 보자\n",
    "- [당첨번호 확인](https://dhlottery.co.kr/gameResult.do?method=byWin)"
   ]
  },
  {
   "cell_type": "code",
   "execution_count": 2,
   "id": "60677372",
   "metadata": {},
   "outputs": [],
   "source": [
    "from urllib.request import urlopen\n",
    "import requests\n",
    "from bs4 import BeautifulSoup as bs"
   ]
  },
  {
   "cell_type": "code",
   "execution_count": 31,
   "id": "a3b0febc",
   "metadata": {},
   "outputs": [],
   "source": [
    "#로또 당첨 번호를 불러와 보세요.\n",
    "# 결과\n",
    "# 12 17 20 ... 36"
   ]
  },
  {
   "cell_type": "code",
   "execution_count": null,
   "id": "d3450253",
   "metadata": {},
   "outputs": [],
   "source": [
    "# find로 찾기"
   ]
  },
  {
   "cell_type": "code",
   "execution_count": 3,
   "id": "4a65a589",
   "metadata": {},
   "outputs": [],
   "source": [
    "\n",
    "lotto_url = requests.get('https://dhlottery.co.kr/gameResult.do?method=byWin')\n",
    "lotto_bs = bs(lotto_url.text, 'html.parser')"
   ]
  },
  {
   "cell_type": "code",
   "execution_count": null,
   "id": "c5b81041",
   "metadata": {},
   "outputs": [],
   "source": []
  },
  {
   "cell_type": "code",
   "execution_count": 4,
   "id": "6d78178f",
   "metadata": {},
   "outputs": [
    {
     "name": "stdout",
     "output_type": "stream",
     "text": [
      "6\n",
      "14\n",
      "15\n",
      "19\n",
      "21\n",
      "41\n",
      "<보너스번호>\n",
      "\n",
      "보너스\n",
      "37\n",
      "\n"
     ]
    }
   ],
   "source": [
    "result = lotto_bs.find('div', {'class':'nums'})\n",
    "# print(result)\n",
    "\n",
    "result_win = result.find('div', {'class':'num win'})\n",
    "# 보너스는 제외시키기\n",
    "\n",
    "for item in result_win.find_all('span'):\n",
    "    print(item.text)\n",
    "\n",
    "# 보너스 번호 추가\n",
    "print(\"<보너스번호>\")\n",
    "result_bonus = result.find_all('div', {'class':'num bonus'})[0]\n",
    "# result_bonus_num = result_bonus.find_all('span')[0].text\n",
    "print(result_bonus.text)\n"
   ]
  },
  {
   "cell_type": "code",
   "execution_count": 44,
   "id": "543ac808",
   "metadata": {},
   "outputs": [],
   "source": [
    "# select로 찾기"
   ]
  },
  {
   "cell_type": "code",
   "execution_count": 16,
   "id": "a51071f1",
   "metadata": {},
   "outputs": [],
   "source": [
    "css_soup = lotto_bs.select('div.nums > div.num.win')"
   ]
  },
  {
   "cell_type": "code",
   "execution_count": 17,
   "id": "95a19013",
   "metadata": {},
   "outputs": [
    {
     "name": "stdout",
     "output_type": "stream",
     "text": [
      "6\n",
      "14\n",
      "15\n",
      "19\n",
      "21\n",
      "41\n"
     ]
    }
   ],
   "source": [
    "for item in css_soup[0].find_all('span'):\n",
    "    print(item.text)"
   ]
  },
  {
   "cell_type": "markdown",
   "id": "94285171-ea20-435c-9631-b121a63f86d0",
   "metadata": {},
   "source": [
    "# URL 패턴\n",
    "- https://search.hankyung.com/apps.frm/search.news?query=%EC%BD%94%EB%A1%9C%EB%82%98&page=1\n",
    "- url 패턴 : query=\"검색값\"&page=\"페이지값\""
   ]
  },
  {
   "cell_type": "markdown",
   "id": "ff749162",
   "metadata": {},
   "source": [
    "- [참고: URL 인코딩/디코딩 (URL Encoding/Decoding)](https://it-eldorado.tistory.com/143)  \n",
    "<img src=\"https://blog.kakaocdn.net/dn/caNQvW/btq4JfrNJfP/zdIHGBlZFZr26k2XeHJhbK/img.png\">"
   ]
  },
  {
   "cell_type": "code",
   "execution_count": 5,
   "id": "0962168e",
   "metadata": {},
   "outputs": [],
   "source": [
    "worldcup_url = requests.get('https://search.naver.com/search.naver?query=%EC%9B%94%EB%93%9C%EC%BB%B5&nso=&where=blog&sm=tab_opt')\n",
    "worldcup_bs = bs(worldcup_url.text , 'html.parser')"
   ]
  },
  {
   "cell_type": "code",
   "execution_count": 6,
   "id": "949b078d",
   "metadata": {},
   "outputs": [
    {
     "name": "stdout",
     "output_type": "stream",
     "text": [
      " 2002년의 월드컵 신화를 썼을 일도 없었을 거라는 점입니다. 한국 축구협회에서... 하필이면 한국이 월드컵 개최국이기 때문인데, 당시까지 월드컵 역사상, 개최국이...  \n"
     ]
    }
   ],
   "source": [
    "result = worldcup_bs.find('div', {'class':'total_group'})\n",
    "\n",
    "\n",
    "result_thumnail = result.find_all('a')[0].text\n",
    "\n",
    "print(result_thumnail)\n"
   ]
  },
  {
   "cell_type": "code",
   "execution_count": 7,
   "id": "158d539e",
   "metadata": {},
   "outputs": [],
   "source": [
    "#옳바른 방법"
   ]
  },
  {
   "cell_type": "code",
   "execution_count": 8,
   "id": "488fe74e",
   "metadata": {},
   "outputs": [
    {
     "ename": "NameError",
     "evalue": "name 'naver_bs' is not defined",
     "output_type": "error",
     "traceback": [
      "\u001b[0;31m---------------------------------------------------------------------------\u001b[0m",
      "\u001b[0;31mNameError\u001b[0m                                 Traceback (most recent call last)",
      "Cell \u001b[0;32mIn [8], line 1\u001b[0m\n\u001b[0;32m----> 1\u001b[0m naver_bs\u001b[39m.\u001b[39mfind_all(\u001b[39m\"\u001b[39m\u001b[39mdiv\u001b[39m\u001b[39m\"\u001b[39m, {\u001b[39m\"\u001b[39m\u001b[39mclass\u001b[39m\u001b[39m\"\u001b[39m:\u001b[39m\"\u001b[39m\u001b[39mtotal_area\u001b[39m\u001b[39m\"\u001b[39m})[\u001b[39m0\u001b[39m]\u001b[39m.\u001b[39mfind(\u001b[39m\"\u001b[39m\u001b[39ma\u001b[39m\u001b[39m\"\u001b[39m, {\u001b[39m\"\u001b[39m\u001b[39mclass\u001b[39m\u001b[39m\"\u001b[39m:\u001b[39m\"\u001b[39m\u001b[39mapi_txt_lines total_tit\u001b[39m\u001b[39m\"\u001b[39m})\u001b[39m.\u001b[39mtext\n",
      "\u001b[0;31mNameError\u001b[0m: name 'naver_bs' is not defined"
     ]
    }
   ],
   "source": [
    "naver_bs.find_all(\"div\", {\"class\":\"total_area\"})[0].find(\"a\", {\"class\":\"api_txt_lines total_tit\"}).text"
   ]
  },
  {
   "cell_type": "code",
   "execution_count": 27,
   "id": "cd238420",
   "metadata": {},
   "outputs": [
    {
     "name": "stderr",
     "output_type": "stream",
     "text": [
      "/Users/leesangyup/opt/anaconda3/envs/webcrawling/lib/python3.10/site-packages/urllib3/connectionpool.py:1045: InsecureRequestWarning: Unverified HTTPS request is being made to host 'search.naver.com'. Adding certificate verification is strongly advised. See: https://urllib3.readthedocs.io/en/1.26.x/advanced-usage.html#ssl-warnings\n",
      "  warnings.warn(\n"
     ]
    },
    {
     "name": "stdout",
     "output_type": "stream",
     "text": [
      "2002년 월드컵 히딩크 감독 인생스토리 (근황, 네덜란드)\n",
      "2022 카타르월드컵 8강 모로코 대 포르투갈 분석 4강 진출팀... \n",
      "[2022 카타르월드컵] 브라질과 아르헨티나\n",
      "사막 월드컵과 제로에너지빌딩\n",
      "카타르월드컵⚽️ 조별매치 3경기 직관 후기\n",
      "[축구] 카타 월드컵이 남긴 숙제\n",
      "이강인의 성장(feat.손흥민, 2014 브라질 월드컵)\n",
      "2022 카타르 월드컵 8강 모로코 대 포르투갈 - 일정, 전력분석... \n",
      "카타르 월드컵 8강 크로아티아 브라질 분석 전적 피파랭킹... \n",
      "2022 카타르월드컵 16강 결과 및 8강 대진표 승리예상\n",
      "카타르 월드컵 일정 시간 ✔️우승후보 브라질 탈락... \n",
      "2022 카타르 월드컵 크로아티아대 브라질 경기 분석... \n",
      "삼바 축구의 침몰, 카타르 월드컵 8강전 첫 경기 브라질 VS... \n",
      "2022 카타르 월드컵 8강 대진표 일정 결승전 도!\n",
      "브라질 크로아티아 축구 중계 카타르 월드컵 8강 경기 무료... \n",
      "월드컵 공인구 언제부터 썼을까?? 월드컵 공인구의 역사 - 2\n",
      "2022 카타르 월드컵 8강 일정, 대진표, 진출팀 (ft. 벤투)\n",
      "2022 카타르 월드컵 모로코대 포르투갈 분석 경기일정... \n",
      "2022 카타르월드컵 8강 잉글랜드 대 프랑스 분석 4강 진출팀... \n",
      "크로아티아 브라질 분석 승부예측 카타르 월드컵 8강 MBC SBS... \n",
      "안티 아르헨티나를 만들어준 월드컵 경기\n",
      "포르투갈 모로코 중계방송 카타르 월드컵 8강 토너먼트... \n",
      "2022 카타르 월드컵 8강 잉글랜드 대 프랑스 - 경기 일정, 전력... \n",
      "[카타르 월드컵] 모로코 8강진출, 관전 포인트 3가지\n",
      "2022 FIFA 카타르 월드컵 8강 일정과 프리뷰, 8강 골키퍼들... \n",
      "2022 카타르 월드컵 네덜란드대 아르헨티나 역대 전적... \n",
      "카타르 월드컵 8강 포르투갈 모로코 분석 전적 피파랭킹... \n",
      "카타르 월드컵 8강전 제2경기에서 아르헨티나, 승부차기 끝에... \n",
      "2026 월드컵은 밴쿠버, 토론토에서\n",
      "2022 카타르 월드컵은 왜 감동적이었을까?⚽️\n"
     ]
    }
   ],
   "source": [
    "query = input(\"검색어를 입력하세요 : \")\n",
    "naver_url = f\"https://search.naver.com/search.naver?query={query}&nso=&where=blog&sm=tab_opt\"\n",
    "naver_raw = requests.get(naver_url, verify=False)\n",
    "naver_bs = bs(naver_raw.text, \"html.parser\")\n",
    "for i in naver_bs.find_all(\"div\", {\"class\":\"total_area\"}):\n",
    "    print(i.find(\"a\", {\"class\":\"api_txt_lines total_tit\"}).text)"
   ]
  },
  {
   "cell_type": "markdown",
   "id": "be9a52e2-7514-45b7-b88b-14ea0c0fef8f",
   "metadata": {},
   "source": []
  },
  {
   "cell_type": "code",
   "execution_count": 54,
   "id": "48231f34",
   "metadata": {},
   "outputs": [
    {
     "name": "stdout",
     "output_type": "stream",
     "text": [
      "발라드 \n",
      "\n",
      "1.먼데이 키즈 (Monday Kiz) : \n",
      "추억 일기\n",
      "\n",
      "2.경서예지 : \n",
      "그 겨울이 잠든 거리에서\n",
      "\n",
      "3.리제(이지혜) : \n",
      "안아볼까\n",
      "\n",
      "4.투앤비 (2NB) : \n",
      "얼마나 더 아파해야 이별이 끝이 날까\n",
      "\n",
      "5.진민호 : \n",
      "Goodbye My Love\n",
      "\n",
      "6.조동희 : \n",
      "우리가 사랑이라 말하는 것들\n",
      "\n",
      "7.시하 : \n",
      "크리스마스 선물처럼\n",
      "\n",
      "8.클랑 (KLANG) : \n",
      "Let it go\n",
      "\n",
      "9.아웃오브캠퍼스 : \n",
      "계단\n",
      "\n",
      "10.배찬미 : \n",
      "못 이룬 날들에게 (With.미소)\n",
      "\n",
      "11.유키카 : \n",
      "우주의 법칙\n",
      "\n",
      "12.신현우 : \n",
      "헤어지자 (2022)\n",
      "\n",
      "13.바닐라무스(Vanilla Mousse) : \n",
      "O Holy Night\n",
      "\n",
      "14.Aalia (알리아) : \n",
      "숨멎\n",
      "\n",
      "15.겸 (GYE0M) : \n",
      "나쁜 꿈\n",
      "\n",
      "16.유난이 : \n",
      "작아지는 마음\n",
      "\n",
      "17.한준우 : \n",
      "그 밤이 내 곁에 머물러 있어 (Feat. 이성근)\n",
      "\n",
      "18.봉구 (길구봉구) : \n",
      "받아주기를\n",
      "\n",
      "19.한혜진 × 기안84 : \n",
      "겨울고백\n",
      "\n",
      "20.Sondia : \n",
      "너란이름\n",
      "\n",
      "21.클래스메이트 : \n",
      "우리 이별하긴 했나요\n",
      "\n",
      "22.셀린 (Celine) : \n",
      "Starry Night\n",
      "\n",
      "23.기록희 (Original 은가은) : \n",
      "단 하루만\n",
      "\n",
      "24.김대연 : \n",
      "For You\n",
      "\n",
      "25.모닝커피 (Morning Coffee) : \n",
      "언제나 너만 사랑할 사람\n",
      "\n",
      "26.캐롤소녀 : \n",
      "해피 크리스마스\n",
      "\n",
      "27.양성준 : \n",
      "기다리는 곳(feat.정수인)\n",
      "\n",
      "28.팔빈 (Falvin) : \n",
      "웃음만 나잖아\n",
      "\n",
      "29.팔빈 (Falvin) : \n",
      "운명 같은 사람\n",
      "\n",
      "30.지성철 : \n",
      "기차를 타고\n",
      "\n",
      "31.겨레 : \n",
      "그대로만 (Stay)\n",
      "\n",
      "32.E℃ (이섭씨) : \n",
      "지나간다 (feat. 서우연)\n",
      "\n",
      "33.백주 : \n",
      "그 곳에 다시 한 번 서다\n",
      "\n",
      "34.선하 : \n",
      "아빠\n",
      "\n",
      "35.양재동 사람들 : \n",
      "기다리는 것도, 지우는 것도 (Vocal by NAEUN)\n",
      "\n",
      "36.이혜인 : \n",
      "닮고 싶은 너\n",
      "\n",
      "37.All the Way : \n",
      "겨울밤 (Vocal 김훨)\n",
      "\n",
      "38.정빈 : \n",
      "I love your eyes\n",
      "\n",
      "39.조영래 : \n",
      "inside Your love (Feat. 석우 with my friends)\n",
      "\n",
      "40.Reban.O (레반오) : \n",
      "Ride or die\n",
      "\n",
      "41.권영구 : \n",
      "가을 노을 지면\n",
      "\n",
      "42.준킴 : \n",
      "크리스마스는 사랑이니까\n",
      "\n",
      "43.갈프로젝트 : \n",
      "너도 짝이 생길 거야  (Feat. 정종철, 박휘순, 오지헌)\n",
      "\n",
      "44.주시은 : \n",
      "미지근해\n",
      "\n",
      "45.서바우 : \n",
      "Diving\n",
      "\n",
      "46.이백길 : \n",
      "고양이 보러 갈래\n",
      "\n",
      "47.서앤 : \n",
      "연약한 마음\n",
      "\n",
      "48.아기천사 : \n",
      "친구 아닌 사랑 (Vocal by 이재성)\n",
      "\n",
      "49.유경탁 : \n",
      "창밖을 보네\n",
      "\n",
      "50.비공일호 (B01) : \n",
      "문득 (Vocal by COLORMAN)\n",
      "\n"
     ]
    }
   ],
   "source": [
    "query = input(\"장르를 입력하세요.: \")\n",
    "\n",
    "list_gnr = ['발라드','댄스','랩/힙합','R&B/Soul','인디음악','록/메탈','트로트','포크/블루스']\n",
    "\n",
    "if query not in list_gnr:\n",
    "    print('다시 입력하세요.')\n",
    "\n",
    "gnr = 100 * (list_gnr.index(query) + 1)\n",
    "\n",
    "    \n",
    "header = {'User-Agent': 'Mozilla/5.0 (Windows NT 6.3; Trident/7.0; rv:11.0) like Gecko'}\n",
    "\n",
    "url = f'https://www.melon.com/genre/song_list.htm?gnrCode=GN0{gnr}'\n",
    "melon_url = requests.get(url, headers= header)\n",
    "melon_bs = bs(melon_url.text, 'html.parser')\n",
    "\n",
    "songs = melon_bs.find_all('div', {'ellipsis rank01'})\n",
    "singers = melon_bs.find_all('div', {'ellipsis rank02'})\n",
    "\n",
    "print(query, '\\n')\n",
    "\n",
    "i = 0\n",
    "for item, j in zip(songs, singers):\n",
    "    i += 1\n",
    "    song = item.text\n",
    "    singer = j.find('a').text\n",
    "    print(f\"{i}.{singer} : {song}\")\n",
    "\n",
    "\n",
    "# for item in melon_bs.find_all('div', {'wrap_song_info'}):\n",
    "#     print(item.text)\n",
    "\n"
   ]
  },
  {
   "cell_type": "code",
   "execution_count": 55,
   "id": "89e1f113",
   "metadata": {},
   "outputs": [
    {
     "name": "stdout",
     "output_type": "stream",
     "text": [
      "발라드\n",
      "댄스\n",
      "랩/힙합\n",
      "R&B/Soul\n",
      "인디음악\n",
      "록/메탈\n",
      "트로트\n",
      "포크/블루스\n"
     ]
    }
   ],
   "source": [
    "tab_name = melon_bs.find('div', {\"wrap_tabmenu01 type08\"}).find_all('a')\n",
    "for i in tab_name:\n",
    "    print(i.get_text())\n",
    "\n",
    "\n",
    "# for item in melon_bs.find_all('div', {\"wrap_tabmenu01 type08\"}):\n",
    "#     print(item.text)"
   ]
  },
  {
   "cell_type": "code",
   "execution_count": null,
   "id": "db9190a3",
   "metadata": {},
   "outputs": [],
   "source": []
  },
  {
   "cell_type": "code",
   "execution_count": 57,
   "id": "151e1296",
   "metadata": {},
   "outputs": [
    {
     "name": "stdout",
     "output_type": "stream",
     "text": [
      "삼성전자\n",
      "카카오\n",
      "NAVER\n",
      "LG화학\n",
      "현대차\n",
      "SK하이닉스\n",
      "KODEX 레버리지\n",
      "코오롱인더우\n",
      "DL이앤씨\n",
      "두산에너빌리티\n"
     ]
    }
   ],
   "source": [
    "url = 'https://finance.naver.com/sise/'\n",
    "finace_url = requests.get(url)\n",
    "finace_bs = bs(finace_url.text, 'html.parser')\n",
    "\n",
    "\n",
    "for item in finace_bs.find('ul', {'class':'lst_pop'}).find_all('a'):\n",
    "    print(item.text)\n",
    "\n",
    "# for item in finace_bs.find_all('ul', {'class':'lst_pop'}):\n",
    "#     print(item.text)\n"
   ]
  }
 ],
 "metadata": {
  "kernelspec": {
   "display_name": "webcrawling",
   "language": "python",
   "name": "python3"
  },
  "language_info": {
   "codemirror_mode": {
    "name": "ipython",
    "version": 3
   },
   "file_extension": ".py",
   "mimetype": "text/x-python",
   "name": "python",
   "nbconvert_exporter": "python",
   "pygments_lexer": "ipython3",
   "version": "3.10.8"
  },
  "vscode": {
   "interpreter": {
    "hash": "12b939deff3b02a6b70c1d23566a711eb25efc499a8abdda46e771a39b871736"
   }
  }
 },
 "nbformat": 4,
 "nbformat_minor": 5
}
