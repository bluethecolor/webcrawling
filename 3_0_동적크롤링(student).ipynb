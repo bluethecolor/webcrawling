{
 "cells": [
  {
   "attachments": {},
   "cell_type": "markdown",
   "id": "e7fbb0fb-c743-4f35-93bc-007265e76917",
   "metadata": {},
   "source": [
    "# 로봇 배제 표준 문서\n",
    "- 웹 사이트에 로봇이 접근하는 것을 방지하기 위한 규약\n",
    "- 일반적으로 접근 제한에 대한 설명을 robots.txt 기술해 놓고 루트 디렉토리에 위치 시킨다. \n",
    "- 이 규약은 권고안이며, 로봇이 robots.txt 파일을 읽고 접근을 중지하는 것을 목적으로 한다.\n",
    "- 접근 방지 설정을 하였다고 해도, 다른 사람들이 그 파일에 접근할 수 있다\n",
    "\n",
    "## 데이터 수집 시 주의 사항\n",
    "- 로봇 배제 표준이 권고안이라도 불법으로 데이터를 수집하여 영업 혹은 저작권 침해에 해당된다면 법적 제재를 받을 수 있다.  \n",
    "- https://ko.wikipedia.org/wiki/%EB%A1%9C%EB%B4%87_%EB%B0%B0%EC%A0%9C_%ED%91%9C%EC%A4%80"
   ]
  },
  {
   "cell_type": "markdown",
   "id": "28d35783-3ca9-45eb-8083-527c1725634c",
   "metadata": {
    "tags": []
   },
   "source": [
    "# 셀레니움(Selenium)\n",
    "- Selenium은 주로 웹앱을 테스트하는데 사용하는 프레임워크\n",
    "- webdriver라는 API를 통해 운영체제에 설치된 크롬 등의 브라우저를 제어\n",
    "- Selenium 모듈 설치 후 사용\n",
    "- 사용자 브라우저(Chrome, Edge, ..)에 맞는 webdriver를 다운로드 후 사용 가능\n",
    "- 다운로드 사이트에서 본인이 사용하는 브라우저의 버전등을 확인 후 다운로드\n",
    "- 크롬: https://chromedriver.chromium.org/downloads\n",
    "- Edge: https://developer.microsoft.com/en-us/microsoft-edge/tools/webdriver/\n",
    "- 파이어폭스:https://github.com/mozilla/geckodriver/releases\n",
    "\n",
    "__주의__\n",
    "최근 없데이트되면서 문법 변경됨"
   ]
  },
  {
   "cell_type": "markdown",
   "id": "34428aca-ccb6-47a4-b763-0d511b0c9298",
   "metadata": {},
   "source": [
    "## webdriver\n",
    "- selenium의 webdriver는 웹 응용 프로그램들의 테스트를 단순화 및 가속화해주는 툴\n",
    "\n",
    "### 크롬 드라이브 다운\n",
    "1. 크롬 브라우저 버전을 확인한다.(크롬브라우저 점3개 클릭-도움말-정보)\n",
    "2. 동일버전의 webdriver을 다운로드 [driver](https://chromedriver.chromium.org/downloads)\n",
    "3. ./tools/chromedirver.exe"
   ]
  },
  {
   "cell_type": "code",
   "execution_count": 1,
   "id": "aa98dc37",
   "metadata": {},
   "outputs": [],
   "source": [
    "from selenium import webdriver\n",
    "import time"
   ]
  },
  {
   "cell_type": "markdown",
   "id": "abda1f17-29d5-4f12-8142-3f66ff06c93a",
   "metadata": {},
   "source": [
    "### selenium 내장함수\n",
    "\n",
    "#### 1. get()\n",
    "- get() 함수는 입력한 url 주소로 접속하는 함수\n",
    "\n",
    "```python\n",
    "driver.get(\"url 주소\")\n",
    "```\n",
    "\n",
    "#### 2. find_element(By.<location>, \"\")\n",
    "- 정적크롤링의 find과 같은 역할로, 크롤링을 위해 HTML 요소를 찾는 함수\n",
    "    \n",
    "```python\n",
    "from selenium.webdriver.common.by import By\n",
    "\n",
    "find_element(By.ID, \"id\")\n",
    "find_element(By.NAME, \"name\")\n",
    "find_element(By.XPATH, \"xpath\")\n",
    "find_element(By.LINK_TEXT, \"link text\")\n",
    "find_element(By.PARTIAL_LINK_TEXT, \"partial link text\")\n",
    "find_element(By.TAG_NAME, \"tag name\")\n",
    "find_element(By.CLASS_NAME, \"class name\")\n",
    "find_element(By.CSS_SELECTOR, \"css selector\")\n",
    "```\n",
    "\n",
    "__참고__ :  구버전의 find_element_by_ ?? 에서 변경되었다. \n",
    "\n",
    "예) find_element(By.CSS_SELECTOR, \"css selector\") \n",
    "- copy 목록의 copy selector를 통해 속성을 찾을 수 있다.\n",
    "```python\n",
    "driver.find_element(By.CSS_SELECTOR, \"a#writeFormBtn\")\n",
    "```\n",
    "\n",
    "    \n",
    "예) find_element(By.ID, \"id\") & find_element(By.CLASS_NAME, \"class name\")\n",
    "- id 속성 혹은 class 속성을 가지고 있는 경우 사용한다.\n",
    "\n",
    "```python    \n",
    "'글쓰기' 버튼 - <a href=\"#\" id=\"writeFormBtn\" class=\"btn_type1 post_write _rosRestrict\" onclick=\"clickcr(this,'abt.wrtlist', '', '', event);\">\n",
    "\n",
    "driver.find_element(By.ID, \"writeFormBtn\")\n",
    "driver.find_element(By.CLASS_NAME, \"btn_type1.post_write._rosRestrict\")\n",
    "```\n",
    "\n",
    "예) find_element(By.XPATH, \"xpath\")\n",
    "- 적당한 id, class 속성이 없을 경우 xpath를 사용가능 \n",
    "- XPATH란 xml 문서의 특정 부분의 위치를 의미한다.\n",
    "- html 요소를 우클릭하고 copy 목록의 copy xpath를 클릭해 사용가능\n",
    "\n",
    "```python\n",
    "driver.find_element(By.XPATH, 'XPath 선택자')\n",
    "\n",
    "# ex) '글쓰기' 버튼의 'Copy XPath'결과 - //*[@id=\"writeFormBtn\"]\n",
    "driver.find_element_by_xpath('//*[@id=\"writeFormBtn\"]')\n",
    "```"
   ]
  },
  {
   "attachments": {},
   "cell_type": "markdown",
   "id": "623df7c7-342c-4f64-b14c-bdd5c69c821a",
   "metadata": {},
   "source": [
    "#### 3. find_elements_by_?? ()\n",
    "- 정적 크롤링의 find_all과 같은 역할로, 입력한 태그 및 선택자에 해당하는 모든 html 요소를 찾는 함수이다. \n",
    "- element 뒤에 s가 붙는다. \n",
    "\n",
    "\n",
    "\n",
    "#### 4. click()\n",
    "- html 요소를 클릭하는 함수이다.\n",
    "\n",
    "```python\n",
    "driver.find_element(By.???, \"????\").click()\n",
    "\n",
    "ex) 글쓰기 버튼 클릭\n",
    "driver.find_element(By.CSS_SELECTOR,\"a#writeFormBtn\").click()\n",
    "```\n",
    "\n",
    "#### 5. send_keys()\n",
    "- html 요소에 직접 텍스트를 입력하는 함수이다.\n",
    "\n",
    "```python\n",
    "driver.find_element_by_??().send_keys(\"텍스트\")\n",
    "\n",
    "ex) 검색 칸에 파이썬 입력\n",
    "driver.find_element(By_css_selector,\"input#query\").send_keys(\"파이썬\")\n",
    "```\n",
    "\n"
   ]
  },
  {
   "cell_type": "code",
   "execution_count": 2,
   "id": "cc4ebc74-2efe-4064-b5dc-1de30e149d0f",
   "metadata": {},
   "outputs": [],
   "source": [
    "from selenium import webdriver\n",
    "from bs4 import BeautifulSoup as BS\n",
    "import time\n",
    "import pandas as pd\n",
    "from selenium.webdriver.common.by import By"
   ]
  },
  {
   "cell_type": "code",
   "execution_count": 52,
   "id": "ef10081e",
   "metadata": {},
   "outputs": [
    {
     "name": "stderr",
     "output_type": "stream",
     "text": [
      "/var/folders/rx/pyxnz2c109qgv29mx2rvvtv40000gn/T/ipykernel_2338/621808186.py:2: DeprecationWarning: executable_path has been deprecated, please pass in a Service object\n",
      "  driver = webdriver.Chrome('./chromedriver.exe')\n"
     ]
    },
    {
     "ename": "IndexError",
     "evalue": "list index out of range",
     "output_type": "error",
     "traceback": [
      "\u001b[0;31m---------------------------------------------------------------------------\u001b[0m",
      "\u001b[0;31mIndexError\u001b[0m                                Traceback (most recent call last)",
      "\u001b[0;32m/var/folders/rx/pyxnz2c109qgv29mx2rvvtv40000gn/T/ipykernel_2338/621808186.py\u001b[0m in \u001b[0;36m<module>\u001b[0;34m\u001b[0m\n\u001b[1;32m     14\u001b[0m \u001b[0mdriver\u001b[0m\u001b[0;34m.\u001b[0m\u001b[0mclose\u001b[0m\u001b[0;34m(\u001b[0m\u001b[0;34m)\u001b[0m\u001b[0;34m\u001b[0m\u001b[0;34m\u001b[0m\u001b[0m\n\u001b[1;32m     15\u001b[0m \u001b[0;34m\u001b[0m\u001b[0m\n\u001b[0;32m---> 16\u001b[0;31m \u001b[0msoup\u001b[0m\u001b[0;34m.\u001b[0m\u001b[0mfind_all\u001b[0m\u001b[0;34m(\u001b[0m\u001b[0;34m\"span\"\u001b[0m\u001b[0;34m,\u001b[0m \u001b[0;34m{\u001b[0m\u001b[0;34m\"class\"\u001b[0m\u001b[0;34m:\u001b[0m\u001b[0;34m\"place_bluelink TYaxT\"\u001b[0m\u001b[0;34m}\u001b[0m\u001b[0;34m)\u001b[0m\u001b[0;34m[\u001b[0m\u001b[0;36m0\u001b[0m\u001b[0;34m]\u001b[0m\u001b[0;34m.\u001b[0m\u001b[0mtext\u001b[0m\u001b[0;34m\u001b[0m\u001b[0;34m\u001b[0m\u001b[0m\n\u001b[0m",
      "\u001b[0;31mIndexError\u001b[0m: list index out of range"
     ]
    }
   ],
   "source": [
    "# webdriver 객체 생성\n",
    "driver = webdriver.Chrome('./chromedriver.exe')\n",
    "naver_url = 'https://www.naver.com/'\n",
    "\n",
    "driver.get(naver_url)\n",
    "time.sleep(1) \n",
    "driver.find_element(By.CSS_SELECTOR,'input#query').send_keys('파이썬')\n",
    "driver.find_element(By.CSS_SELECTOR,'button#search_btn').click()\n",
    "\n",
    "time.sleep(1)\n",
    "html = driver.page_source\n",
    "soup = BS(html, 'html.parser')\n",
    "\n",
    "driver.close()"
   ]
  },
  {
   "cell_type": "code",
   "execution_count": 53,
   "id": "8f5168ed",
   "metadata": {},
   "outputs": [
    {
     "ename": "IndexError",
     "evalue": "list index out of range",
     "output_type": "error",
     "traceback": [
      "\u001b[0;31m---------------------------------------------------------------------------\u001b[0m",
      "\u001b[0;31mIndexError\u001b[0m                                Traceback (most recent call last)",
      "\u001b[0;32m/var/folders/rx/pyxnz2c109qgv29mx2rvvtv40000gn/T/ipykernel_2338/1466253932.py\u001b[0m in \u001b[0;36m<module>\u001b[0;34m\u001b[0m\n\u001b[0;32m----> 1\u001b[0;31m \u001b[0msoup\u001b[0m\u001b[0;34m.\u001b[0m\u001b[0mfind_all\u001b[0m\u001b[0;34m(\u001b[0m\u001b[0;34m\"span\"\u001b[0m\u001b[0;34m,\u001b[0m \u001b[0;34m{\u001b[0m\u001b[0;34m\"class\"\u001b[0m\u001b[0;34m:\u001b[0m\u001b[0;34m\"place_bluelink TYaxT\"\u001b[0m\u001b[0;34m}\u001b[0m\u001b[0;34m)\u001b[0m\u001b[0;34m[\u001b[0m\u001b[0;36m0\u001b[0m\u001b[0;34m]\u001b[0m\u001b[0;34m.\u001b[0m\u001b[0mtext\u001b[0m\u001b[0;34m\u001b[0m\u001b[0;34m\u001b[0m\u001b[0m\n\u001b[0m",
      "\u001b[0;31mIndexError\u001b[0m: list index out of range"
     ]
    }
   ],
   "source": [
    "soup.find_all(\"span\", {\"class\":\"place_bluelink TYaxT\"})[0].text"
   ]
  },
  {
   "cell_type": "code",
   "execution_count": 57,
   "id": "b60157c3",
   "metadata": {},
   "outputs": [
    {
     "name": "stderr",
     "output_type": "stream",
     "text": [
      "/var/folders/rx/pyxnz2c109qgv29mx2rvvtv40000gn/T/ipykernel_2338/4034576301.py:3: DeprecationWarning: executable_path has been deprecated, please pass in a Service object\n",
      "  driver = webdriver.Chrome('./chromedriver.exe')\n"
     ]
    }
   ],
   "source": [
    "# 네이버에서 부산국밥집을 검색한 결과를 가게 이름과 링크를 함꼐 DF에 저장하세요\n",
    "\n",
    "driver = webdriver.Chrome('./chromedriver.exe')\n",
    "naver_url = 'https://www.naver.com/'\n",
    "\n",
    "driver.get(naver_url)\n",
    "time.sleep(1) \n",
    "driver.find_element(By.CSS_SELECTOR, 'input#query').send_keys('부산국밥집')\n",
    "driver.find_element(By.CSS_SELECTOR, 'button#search_btn').click()\n",
    "\n",
    "time.sleep(1)\n",
    "html = driver.page_source\n",
    "soup = BS(html, 'html.parser')\n",
    "\n",
    "# store = []\n",
    "# store_list = soup.find_all('ul',{'Q8MZt aFCZr'})\n",
    "# for i in store_list:\n",
    "#     store_name = i.find_all('span', {'place_bluelink TYaxT'})[0].text\n",
    "#     store.append(store_name)\n",
    "\n",
    "# store\n",
    "\n"
   ]
  },
  {
   "cell_type": "code",
   "execution_count": 60,
   "id": "aa2614e4",
   "metadata": {},
   "outputs": [
    {
     "data": {
      "text/html": [
       "<div>\n",
       "<style scoped>\n",
       "    .dataframe tbody tr th:only-of-type {\n",
       "        vertical-align: middle;\n",
       "    }\n",
       "\n",
       "    .dataframe tbody tr th {\n",
       "        vertical-align: top;\n",
       "    }\n",
       "\n",
       "    .dataframe thead th {\n",
       "        text-align: right;\n",
       "    }\n",
       "</style>\n",
       "<table border=\"1\" class=\"dataframe\">\n",
       "  <thead>\n",
       "    <tr style=\"text-align: right;\">\n",
       "      <th></th>\n",
       "      <th>상호</th>\n",
       "      <th>링크</th>\n",
       "    </tr>\n",
       "  </thead>\n",
       "  <tbody>\n",
       "    <tr>\n",
       "      <th>0</th>\n",
       "      <td>해운대 오복돼지국밥</td>\n",
       "      <td>https://tivan.naver.com/d/aLpbo2IjGc7kKPdjBwQT...</td>\n",
       "    </tr>\n",
       "    <tr>\n",
       "      <th>1</th>\n",
       "      <td>할매집</td>\n",
       "      <td>https://tivan.naver.com/d/WajB7tfNK5PwJ75JXW_a...</td>\n",
       "    </tr>\n",
       "    <tr>\n",
       "      <th>2</th>\n",
       "      <td>수변최고돼지국밥 민락본점</td>\n",
       "      <td>https://map.naver.com/v5/search/%EB%B6%80%EC%8...</td>\n",
       "    </tr>\n",
       "    <tr>\n",
       "      <th>3</th>\n",
       "      <td>본전돼지국밥</td>\n",
       "      <td>https://map.naver.com/v5/search/%EB%B6%80%EC%8...</td>\n",
       "    </tr>\n",
       "    <tr>\n",
       "      <th>4</th>\n",
       "      <td>합천일류돼지국밥</td>\n",
       "      <td>https://map.naver.com/v5/search/%EB%B6%80%EC%8...</td>\n",
       "    </tr>\n",
       "    <tr>\n",
       "      <th>5</th>\n",
       "      <td>영동밀면&amp;돼지국밥</td>\n",
       "      <td>https://map.naver.com/v5/search/%EB%B6%80%EC%8...</td>\n",
       "    </tr>\n",
       "    <tr>\n",
       "      <th>6</th>\n",
       "      <td>자매국밥</td>\n",
       "      <td>https://map.naver.com/v5/search/%EB%B6%80%EC%8...</td>\n",
       "    </tr>\n",
       "    <tr>\n",
       "      <th>7</th>\n",
       "      <td>밀양순대돼지국밥 부산본점</td>\n",
       "      <td>https://map.naver.com/v5/search/%EB%B6%80%EC%8...</td>\n",
       "    </tr>\n",
       "  </tbody>\n",
       "</table>\n",
       "</div>"
      ],
      "text/plain": [
       "              상호                                                 링크\n",
       "0     해운대 오복돼지국밥  https://tivan.naver.com/d/aLpbo2IjGc7kKPdjBwQT...\n",
       "1            할매집  https://tivan.naver.com/d/WajB7tfNK5PwJ75JXW_a...\n",
       "2  수변최고돼지국밥 민락본점  https://map.naver.com/v5/search/%EB%B6%80%EC%8...\n",
       "3         본전돼지국밥  https://map.naver.com/v5/search/%EB%B6%80%EC%8...\n",
       "4       합천일류돼지국밥  https://map.naver.com/v5/search/%EB%B6%80%EC%8...\n",
       "5      영동밀면&돼지국밥  https://map.naver.com/v5/search/%EB%B6%80%EC%8...\n",
       "6           자매국밥  https://map.naver.com/v5/search/%EB%B6%80%EC%8...\n",
       "7  밀양순대돼지국밥 부산본점  https://map.naver.com/v5/search/%EB%B6%80%EC%8..."
      ]
     },
     "execution_count": 60,
     "metadata": {},
     "output_type": "execute_result"
    }
   ],
   "source": [
    "find_sets = soup.find_all(\"div\", {\"CHC5F\"})\n",
    "post_list = []\n",
    "for i in find_sets:\n",
    "    name = i.find('span').text\n",
    "    link = i.find('a')['href']\n",
    "    post_list.append({'상호':name, '링크':link})\n",
    "\n",
    "df = pd.DataFrame(post_list)\n",
    "\n",
    "df\n",
    "\n",
    "# name = soup.find_all(\"div\", {\"CHC5F\"})[0].find('span').text\n",
    "# link = soup.find_all(\"div\", {\"CHC5F\"})[0].find('a')['href']"
   ]
  },
  {
   "attachments": {},
   "cell_type": "markdown",
   "id": "3416c7bf",
   "metadata": {},
   "source": [
    "### 파파고 번역기\n",
    "1. 번역할 단어 입력\n",
    "2. 파파고 접속\n",
    "3. 파파고에 단어 입력\n",
    "4. 출렫된 단어 갖고오기\n",
    "5. print(로 출력)"
   ]
  },
  {
   "cell_type": "code",
   "execution_count": 85,
   "id": "4a20763c",
   "metadata": {},
   "outputs": [
    {
     "name": "stderr",
     "output_type": "stream",
     "text": [
      "/var/folders/rx/pyxnz2c109qgv29mx2rvvtv40000gn/T/ipykernel_2338/3059905934.py:1: DeprecationWarning: executable_path has been deprecated, please pass in a Service object\n",
      "  driver = webdriver.Chrome(\"./chromedriver.exe\")\n"
     ]
    },
    {
     "name": "stdout",
     "output_type": "stream",
     "text": [
      "결과 : \n"
     ]
    }
   ],
   "source": [
    "driver = webdriver.Chrome(\"./chromedriver.exe\")\n",
    "papago_url = \"https://papago.naver.com/\"\n",
    "driver.get(papago_url)\n",
    "\n",
    "question = input(\"단어 입력 : \")\n",
    "\n",
    "driver.find_element(By.CSS_SELECTOR,\"textarea#txtSource\").send_keys(question)\n",
    "driver.find_element(By.CSS_SELECTOR,\"button#btnTranslate\").click()\n",
    "time.sleep(1)\n",
    "output = driver.find_element(By.CSS_SELECTOR,\"div#txtTarget\").text\n",
    "print(\"결과 :\", output)\n",
    "\n",
    "driver.close()"
   ]
  },
  {
   "cell_type": "code",
   "execution_count": null,
   "id": "f6636bb3",
   "metadata": {},
   "outputs": [],
   "source": [
    "# 추가 학습\n",
    "# 딕셔너리에 단어를 추가한 뒤\n",
    "# 1. 원래 있는 단어면 번역된 단어를 갖고 온다\n",
    "# 2. 없는 단어면 papago에 접속해 단어를 번역하고, 딕셔너리에 추가해 준다.\n",
    "\n",
    "# 추가 합습 2\n",
    "# csv 파일을 읽어온 후\n",
    "# 1. 원래 있는 단어면 번역된 단어를 갖고 온다\n",
    "# 2. 없는 단어면 papago에 접속해 단어를 번역하고, csv파일에 추가해 준다."
   ]
  },
  {
   "cell_type": "code",
   "execution_count": null,
   "id": "efa7c63b",
   "metadata": {},
   "outputs": [],
   "source": []
  },
  {
   "cell_type": "markdown",
   "id": "412b1a28-037f-49ed-b546-207915e1d56e",
   "metadata": {},
   "source": [
    "# 브라우저를 통한 웹페이지 제어"
   ]
  },
  {
   "cell_type": "code",
   "execution_count": null,
   "id": "874fd238",
   "metadata": {},
   "outputs": [],
   "source": []
  },
  {
   "cell_type": "markdown",
   "id": "5529c75d-38dd-43a6-bbe6-b1cd83b8e2b1",
   "metadata": {},
   "source": [
    "# 파파고 번역기"
   ]
  },
  {
   "cell_type": "code",
   "execution_count": null,
   "id": "2007629c",
   "metadata": {},
   "outputs": [],
   "source": []
  },
  {
   "cell_type": "markdown",
   "id": "3c21424c-0ebd-4b34-8a69-abceeb3007fd",
   "metadata": {},
   "source": [
    "# csv 에 추가된 내용을 읽어서"
   ]
  },
  {
   "cell_type": "code",
   "execution_count": null,
   "id": "3b50ded2",
   "metadata": {},
   "outputs": [],
   "source": []
  },
  {
   "cell_type": "markdown",
   "id": "9990fe53-0bed-4dcd-a564-07a570e7e5a7",
   "metadata": {},
   "source": [
    "# 네이버 로그인"
   ]
  },
  {
   "cell_type": "code",
   "execution_count": 6,
   "id": "16801a03",
   "metadata": {},
   "outputs": [
    {
     "name": "stderr",
     "output_type": "stream",
     "text": [
      "/var/folders/rx/pyxnz2c109qgv29mx2rvvtv40000gn/T/ipykernel_5295/1690095394.py:1: DeprecationWarning: executable_path has been deprecated, please pass in a Service object\n",
      "  driver = webdriver.Chrome('./chromedriver.exe')\n"
     ]
    }
   ],
   "source": [
    "driver = webdriver.Chrome('./chromedriver.exe')\n",
    "login_url = 'https://nid.naver.com/nidlogin.login?mode=form&url=https%3A%2F%2Fwww.naver.com'\n",
    "driver.get(login_url)\n",
    "time.sleep(1)\n",
    "\n",
    "id = input('아이디를 입력하세요. : ' )\n",
    "password = input('비밀번호를 입력하세요. : ' )\n",
    "\n",
    "driver.find_element(By.CSS_SELECTOR, '#id').send_keys(id)\n",
    "time.sleep(1)\n",
    "driver.find_element(By.CSS_SELECTOR, '#pw').send_keys(password)\n",
    "time.sleep(1)\n",
    "driver.find_element(By.CSS_SELECTOR,'#login_keep_wrap > div.ip_check > span > label').click()\n",
    "time.sleep(1)\n",
    "driver.find_element(By.CSS_SELECTOR, 'button#log\\.login').click()\n"
   ]
  },
  {
   "cell_type": "code",
   "execution_count": null,
   "id": "6f6a5b5b",
   "metadata": {},
   "outputs": [],
   "source": [
    "import getpass\n",
    "import pyperclip\n",
    "from selenium.webdriver.common.by import By\n",
    "from selenium.webdriver.common.keys import Keys\n",
    "\n",
    "driver = webdriver.Chrome(\"./chromedriver.exe\")\n",
    "driver.get('https://naver.com')\n",
    "\n",
    "\n",
    "# 네이버 로그인 화면 이동\n",
    "driver.find_element(By.XPATH, '//*[@id=\"account\"]/a').click()\n",
    "\n",
    "# 방법1 ip 보안 끄기\n",
    "# 방법2 pyperclip 을 이용해 id 복사후 붙여넣기 pw 복사후 붙여넣기 \n",
    "\n",
    "id_=getpass.getpass(\"id:\")\n",
    "pw_=getpass.getpass(\"Password:\")\n",
    "\n",
    "def loin_naver(id_,pw_):\n",
    "    pyperclip.copy(id_)\n",
    "    driver.find_element(By.NAME,\"id\").clear()\n",
    "    driver.find_element(By.NAME, \"id\").click()\n",
    "    driver.find_element(By.NAME, \"id\").send_keys(Keys.COMMAND, \"v\")\n",
    "    time.sleep(2)\n",
    "\n",
    "    pyperclip.copy(pw_)\n",
    "    driver.find_element(By.NAME,\"pw\").clear()\n",
    "    driver.find_element(By.NAME, \"pw\").click()\n",
    "    driver.find_element(By.NAME, \"pw\").send_keys(Keys.COMMAND, \"v\")\n",
    "    time.sleep(2)\n",
    "    driver.find_element(By.XPATH, '//*[@id=\"log.login\"]').click()\n",
    "    return driver\n",
    "\n",
    "\n",
    "    # time.sleep(1) \n",
    "    # driver.find_element(By.CSS_SELECTOR, '#NM_FAVORITE > div.group_nav > ul.list_nav.type_fix > li:nth-child(3) > a').click()\n",
    "    # time.sleep(1) \n",
    "    # driver.find_element(By.CSS_SELECTOR, '#container > div > aside > div > div:nth-child(1) > nav > a:nth-child(1)').click()\n",
    "    # time.sleep(1)\n",
    "\n",
    "\n",
    "\n",
    "def posting(driver):\n",
    "    driver.get(\"https://blog.naver.com/apollo11plus?Redirect=Write\")\n",
    "    time.sleep(3)\n",
    "\n",
    "    frame = driver.find_element(By.ID, \"mainFrame\") \n",
    "    driver.switch_to.frame(frame)\n",
    "    time.sleep(3)\n",
    "\n",
    "    time.sleep(1) \n",
    "    driver.find_element(By.CSS_SELECTOR, '#post-admin > a.col._checkBlock._rosRestrict').click()\n",
    "    time.sleep(1) \n",
    "    driver.find_element(By.CSS_SELECTOR, '#SE-3329a597-824c-48d0-9c49-4c974bec5a6e').send_keys('나는 봇입니다.')\n",
    "    time.sleep(1) \n",
    "    driver.find_element(By.CSS_SELECTOR, '#SE-2c3ba010-faf0-438d-9169-ee99ada4b4f0 > span.se-placeholder.__se_placeholder.se-ff-nanumgothic.se-fs15.se-placeholder-focused').send_keys('이것은 봇이 입력한 글입니다.')\n",
    "    time.sleep(1) \n",
    "    driver.find_element(By.CSS_SELECTOR, '#root > div > div.header__BKas7 > div > div.publish_btn_area__tkHIR > div:nth-child(3) > button').click()\n",
    "\n",
    "\n",
    "driver = loin_naver(id_,pw_)\n",
    "\n",
    "posting(driver)\n",
    "\n",
    "# 네이버 블로그 글을 올려보세요\n",
    "# 제목 : 나는 봇입니다. \n",
    "# 내용 : 이것은 봇이 입력한 글입니다. \n"
   ]
  },
  {
   "cell_type": "code",
   "execution_count": 5,
   "id": "5ea00129",
   "metadata": {},
   "outputs": [],
   "source": [
    "# 네이버 블로그 글을 올려보세요.\n",
    "# 제목 : 나는 봇입니다.\n",
    "# 내용 : 이것은 봇이 입력한 글입니다."
   ]
  },
  {
   "cell_type": "code",
   "execution_count": 14,
   "id": "5ab1166a",
   "metadata": {},
   "outputs": [],
   "source": [
    "# 네이버 블로그 글을 올려보세요\n",
    "# 제목 : 나는 봇입니다. \n",
    "# 내용 : 이것은 봇이 입력한 글입니다. \n",
    "\n",
    "import getpass\n",
    "import pyperclip\n",
    "from selenium.webdriver.common.by import By\n",
    "from selenium.webdriver.common.keys import Keys\n",
    "from selenium.webdriver.common.action_chains import ActionChains\n",
    "\n",
    "\n",
    "id_=getpass.getpass(\"id:\")\n",
    "pw_=getpass.getpass(\"Password:\")\n",
    "\n",
    "def login_naver(id_, pw_):\n",
    "    driver = webdriver.Chrome(\"./chromedriver.exe\")\n",
    "    driver.get('https://naver.com')\n",
    "\n",
    "    # 네이버 로그인 화면 이동\n",
    "    driver.find_element(By.XPATH, '//*[@id=\"account\"]/a').click()\n",
    "\n",
    "    # 방법1 ip 보안 끄기\n",
    "    # 방법2 pyperclip 을 이용해 id 복사후 붙여넣기 pw 복사후 붙여넣기 \n",
    "\n",
    "\n",
    "    pyperclip.copy(id_)\n",
    "    driver.find_element(By.NAME,\"id\").clear()\n",
    "    time.sleep(1)\n",
    "    driver.find_element(By.NAME, \"id\").click()\n",
    "    time.sleep(1)\n",
    "    driver.find_element(By.NAME, \"id\").send_keys(Keys.COMMAND, \"v\")\n",
    "    time.sleep(2)\n",
    "\n",
    "    pyperclip.copy(pw_)\n",
    "    driver.find_element(By.NAME,\"pw\").clear()\n",
    "    time.sleep(1)\n",
    "    driver.find_element(By.NAME, \"pw\").click()\n",
    "    time.sleep(1)\n",
    "    driver.find_element(By.NAME, \"pw\").send_keys(Keys.COMMAND, \"v\")\n",
    "    time.sleep(2)\n",
    "    driver.find_element(By.XPATH, '//*[@id=\"log.login\"]').click()\n",
    "    return driver"
   ]
  },
  {
   "cell_type": "code",
   "execution_count": 15,
   "id": "e745273b",
   "metadata": {},
   "outputs": [],
   "source": [
    "def posting(driver):\n",
    "    driver.get(\"https://blog.naver.com/apollo11plus?Redirect=Write\")\n",
    "    time.sleep(1)\n",
    "\n",
    "    frame = driver.find_element(By.ID, \"mainFrame\") \n",
    "    driver.switch_to.frame(frame)\n",
    "    time.sleep(2)\n",
    "\n",
    "    # 작성 중인 글 취소\n",
    "    try:\n",
    "        cancel = driver.find_element(By.CSS_SELECTOR, '.se-popup-button.se-popup-button-cancel')\n",
    "        if cancel:\n",
    "            cancel.click()\n",
    "    except:\n",
    "        pass\n",
    "\n",
    "\n",
    "    title = driver.find_element(By.CSS_SELECTOR, '.se-placeholder.__se_placeholder.se-fs32')\n",
    "    action = ActionChains(driver)\n",
    "    postTitle = '안녕하세요 봇입니다2.'\n",
    "    action.move_to_element(title).pause(1).click().send_keys(postTitle).perform()\n",
    "    action.reset_actions()\n",
    "    print(\"제목 작성 완료\")\n",
    "\n",
    "    description = driver.find_element(By.CSS_SELECTOR, '.se-component.se-text.se-l-default')\n",
    "    description.click()\n",
    "    action = ActionChains(driver)\n",
    "    postDescription = \"이것은 봇이 입력한 글입니다.\"\n",
    "    action.send_keys(postDescription).pause(1).send_keys(Keys.ENTER).send_keys(Keys.ENTER).perform()\n",
    "    action.reset_actions()\n",
    "    time.sleep(.5)\n",
    "    print(\"내용 작성 완료\")\n",
    "\n",
    "    cancle = driver.find_element(By.CSS_SELECTOR, '.se-help-panel-close-button')\n",
    "    cancle.click()\n",
    "\n",
    "    send = driver.find_element(By.CSS_SELECTOR, '.text__qXtkF')\n",
    "    send.click()\n",
    "\n",
    "    time.sleep(1)\n",
    "    post = driver.find_elements(By.TAG_NAME, \"button\")[8]\n",
    "    post.click()"
   ]
  },
  {
   "cell_type": "code",
   "execution_count": null,
   "id": "6f903402",
   "metadata": {},
   "outputs": [],
   "source": [
    "id_=getpass.getpass(\"id:\")\n",
    "pw_=getpass.getpass(\"Password:\")\n",
    "\n",
    "driver = login_naver(id_, pw_)\n",
    "posting(driver)"
   ]
  },
  {
   "cell_type": "code",
   "execution_count": null,
   "id": "03cf707f",
   "metadata": {},
   "outputs": [],
   "source": [
    "# 크롤러 검출 우회\n",
    "# options = webdriver.CromeOptions()\n",
    "options.add_argument('disable-gpu') # gpu 가속 x\n"
   ]
  }
 ],
 "metadata": {
  "kernelspec": {
   "display_name": "webcrawling",
   "language": "python",
   "name": "python3"
  },
  "language_info": {
   "codemirror_mode": {
    "name": "ipython",
    "version": 3
   },
   "file_extension": ".py",
   "mimetype": "text/x-python",
   "name": "python",
   "nbconvert_exporter": "python",
   "pygments_lexer": "ipython3",
   "version": "3.10.8"
  },
  "vscode": {
   "interpreter": {
    "hash": "12b939deff3b02a6b70c1d23566a711eb25efc499a8abdda46e771a39b871736"
   }
  }
 },
 "nbformat": 4,
 "nbformat_minor": 5
}
