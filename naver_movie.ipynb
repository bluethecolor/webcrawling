{
 "cells": [
  {
   "cell_type": "code",
   "execution_count": 113,
   "metadata": {},
   "outputs": [],
   "source": [
    "from urllib.request import urlopen\n",
    "import requests\n",
    "from bs4 import BeautifulSoup as bs\n",
    "import pandas as pd\n",
    "import numpy as np\n",
    "from urllib import parse\n",
    "from tqdm import tqdm"
   ]
  },
  {
   "cell_type": "code",
   "execution_count": null,
   "metadata": {},
   "outputs": [],
   "source": []
  },
  {
   "cell_type": "code",
   "execution_count": 2,
   "metadata": {},
   "outputs": [],
   "source": [
    "url = 'https://movie.naver.com/movie/point/af/list.naver?&page=1'\n",
    "html = requests.get(url)\n",
    "soup = bs(html.text, 'html.parser')"
   ]
  },
  {
   "cell_type": "code",
   "execution_count": 47,
   "metadata": {},
   "outputs": [],
   "source": [
    "movie_rating = soup.select('table.list_netizen > tbody')"
   ]
  },
  {
   "cell_type": "code",
   "execution_count": 48,
   "metadata": {},
   "outputs": [
    {
     "data": {
      "text/plain": [
       "[]"
      ]
     },
     "execution_count": 48,
     "metadata": {},
     "output_type": "execute_result"
    }
   ],
   "source": [
    "movie = []\n",
    "\n",
    "for item in movie_rating:\n",
    "    number = item.find_all('td', {'ac num'})[0].text\n",
    "    title = item.find_all('td', {'title'})[0].text\n",
    "    rating = item.find_all('sapn', {'st_on'})[0].text\n",
    "\n",
    "    movie.append([number,title, rating])\n",
    "\n",
    "movie\n",
    "\n"
   ]
  },
  {
   "cell_type": "code",
   "execution_count": 102,
   "metadata": {},
   "outputs": [],
   "source": [
    "# for x in range(1,101):\n",
    "naver_mov = f'https://movie.naver.com/movie/point/af/list.naver?&page=1'\n",
    "naver_req = requests.get(url)\n",
    "table_pd = pd.read_html(naver_req.text)"
   ]
  },
  {
   "cell_type": "code",
   "execution_count": 118,
   "metadata": {},
   "outputs": [
    {
     "data": {
      "text/plain": [
       "'우리도 사랑일까  별점 - 총 10점 중8  지극히 평범한 권태에 대한 이야기. 결국은 가져가야 하는 것. 그 모든 것에 대한 이야기. 신고'"
      ]
     },
     "execution_count": 118,
     "metadata": {},
     "output_type": "execute_result"
    }
   ],
   "source": [
    "table_pd[0]['감상평'][0]"
   ]
  },
  {
   "cell_type": "code",
   "execution_count": 122,
   "metadata": {},
   "outputs": [
    {
     "data": {
      "text/plain": [
       "'아바타: 물의 길  별점 - 총 10점 중10  오늘 14,000원 주고 본 영화... 영화가 아깝다는 생각을 처음했다..돈 더주고 봐야하는 영화. 내가 이 영화를 즐길수 있다는게 너무행복했다 신고'"
      ]
     },
     "execution_count": 122,
     "metadata": {},
     "output_type": "execute_result"
    }
   ],
   "source": [
    "table_pd[0]['감상평'][1]"
   ]
  },
  {
   "cell_type": "code",
   "execution_count": 119,
   "metadata": {},
   "outputs": [
    {
     "data": {
      "text/plain": [
       "['우리도 사랑일까', '8  지극히 평범한 권태에 대한 이야기. 결국은 가져가야 하는 것. 그 모든 것에 대한 이야기. 신고']"
      ]
     },
     "execution_count": 119,
     "metadata": {},
     "output_type": "execute_result"
    }
   ],
   "source": [
    "table_pd[0]['감상평'][0].split(\"  별점 - 총 10점 중\")"
   ]
  },
  {
   "cell_type": "code",
   "execution_count": 120,
   "metadata": {},
   "outputs": [
    {
     "data": {
      "text/plain": [
       "'우리도 사랑일까'"
      ]
     },
     "execution_count": 120,
     "metadata": {},
     "output_type": "execute_result"
    }
   ],
   "source": [
    "            table_pd[0]['감상평'][0].split(\"  별점 - 총 10점 중\")[0]"
   ]
  },
  {
   "cell_type": "code",
   "execution_count": 121,
   "metadata": {},
   "outputs": [
    {
     "data": {
      "text/plain": [
       "'8  지극히 평범한 권태에 대한 이야기. 결국은 가져가야 하는 것. 그 모든 것에 대한 이야기. 신고'"
      ]
     },
     "execution_count": 121,
     "metadata": {},
     "output_type": "execute_result"
    }
   ],
   "source": [
    "table_pd[0]['감상평'][0].split(\"  별점 - 총 10점 중\")[1]"
   ]
  },
  {
   "cell_type": "code",
   "execution_count": 157,
   "metadata": {},
   "outputs": [
    {
     "name": "stderr",
     "output_type": "stream",
     "text": [
      "100%|██████████| 99/99 [00:03<00:00, 30.19it/s]\n"
     ]
    },
    {
     "data": {
      "text/html": [
       "<div>\n",
       "<style scoped>\n",
       "    .dataframe tbody tr th:only-of-type {\n",
       "        vertical-align: middle;\n",
       "    }\n",
       "\n",
       "    .dataframe tbody tr th {\n",
       "        vertical-align: top;\n",
       "    }\n",
       "\n",
       "    .dataframe thead th {\n",
       "        text-align: right;\n",
       "    }\n",
       "</style>\n",
       "<table border=\"1\" class=\"dataframe\">\n",
       "  <thead>\n",
       "    <tr style=\"text-align: right;\">\n",
       "      <th></th>\n",
       "      <th>index</th>\n",
       "      <th>번호</th>\n",
       "      <th>제목</th>\n",
       "      <th>평점</th>\n",
       "      <th>감상평</th>\n",
       "    </tr>\n",
       "  </thead>\n",
       "  <tbody>\n",
       "    <tr>\n",
       "      <th>0</th>\n",
       "      <td>0</td>\n",
       "      <td>18595145</td>\n",
       "      <td>아바타: 물의 길</td>\n",
       "      <td>1</td>\n",
       "      <td>진짜 오직 볼건 영상미가 끝이다. 다큐멘터리 3시간이다.스토리? 기대하지도 마셈. ...</td>\n",
       "    </tr>\n",
       "    <tr>\n",
       "      <th>1</th>\n",
       "      <td>1</td>\n",
       "      <td>18595144</td>\n",
       "      <td>아바타: 물의 길</td>\n",
       "      <td>10</td>\n",
       "      <td>무조건 3D 아맥으로 봐야됨</td>\n",
       "    </tr>\n",
       "    <tr>\n",
       "      <th>2</th>\n",
       "      <td>2</td>\n",
       "      <td>18595143</td>\n",
       "      <td>아바타: 물의 길</td>\n",
       "      <td>5</td>\n",
       "      <td>영상미는 역시나 훌륭하고 볼거리를 제공함.스토리나 재미는 없고 많이 지루함.. 특히...</td>\n",
       "    </tr>\n",
       "    <tr>\n",
       "      <th>3</th>\n",
       "      <td>3</td>\n",
       "      <td>18595142</td>\n",
       "      <td>오늘 밤, 세계에서 이 사랑이 사라진다 해도</td>\n",
       "      <td>10</td>\n",
       "      <td>비록 제가 울진 않았지만, 연말에 보기좋은 소중한 영화예요</td>\n",
       "    </tr>\n",
       "    <tr>\n",
       "      <th>4</th>\n",
       "      <td>4</td>\n",
       "      <td>18595141</td>\n",
       "      <td>보디가드</td>\n",
       "      <td>8</td>\n",
       "      <td>그때 그 시절의 감성이 믈씬</td>\n",
       "    </tr>\n",
       "    <tr>\n",
       "      <th>...</th>\n",
       "      <td>...</td>\n",
       "      <td>...</td>\n",
       "      <td>...</td>\n",
       "      <td>...</td>\n",
       "      <td>...</td>\n",
       "    </tr>\n",
       "    <tr>\n",
       "      <th>944</th>\n",
       "      <td>3</td>\n",
       "      <td>18594149</td>\n",
       "      <td>아바타: 물의 길</td>\n",
       "      <td>4</td>\n",
       "      <td>1편에서 너무 신선한 충격을 받아서일까요,13년을 손꼽아 기다렸는데 영상미는 훌륭했...</td>\n",
       "    </tr>\n",
       "    <tr>\n",
       "      <th>945</th>\n",
       "      <td>4</td>\n",
       "      <td>18594147</td>\n",
       "      <td>아바타: 물의 길</td>\n",
       "      <td>10</td>\n",
       "      <td>그냥 다 쩔었다! 오랜만에 완벽에 가까운 영화 본 느낌! 3부 잘 마무리해줘!</td>\n",
       "    </tr>\n",
       "    <tr>\n",
       "      <th>946</th>\n",
       "      <td>5</td>\n",
       "      <td>18594146</td>\n",
       "      <td>아바타: 물의 길</td>\n",
       "      <td>10</td>\n",
       "      <td>어려운 시기에 훌륭한 영화 만들어 주셔서 감사드립니다. 아름답습니다.</td>\n",
       "    </tr>\n",
       "    <tr>\n",
       "      <th>947</th>\n",
       "      <td>6</td>\n",
       "      <td>18594145</td>\n",
       "      <td>아바타: 물의 길</td>\n",
       "      <td>8</td>\n",
       "      <td>CG로 표현할수있는 최대치무난한 스토리</td>\n",
       "    </tr>\n",
       "    <tr>\n",
       "      <th>948</th>\n",
       "      <td>7</td>\n",
       "      <td>18594144</td>\n",
       "      <td>아바타: 물의 길</td>\n",
       "      <td>9</td>\n",
       "      <td>역시나 좋았어요^^ 전투씬은 전작보다 규모가 작아졌다는 느낌을 받았는데, 물의 세계...</td>\n",
       "    </tr>\n",
       "  </tbody>\n",
       "</table>\n",
       "<p>949 rows × 5 columns</p>\n",
       "</div>"
      ],
      "text/plain": [
       "     index        번호                        제목  평점  \\\n",
       "0        0  18595145                 아바타: 물의 길   1   \n",
       "1        1  18595144                 아바타: 물의 길  10   \n",
       "2        2  18595143                 아바타: 물의 길   5   \n",
       "3        3  18595142  오늘 밤, 세계에서 이 사랑이 사라진다 해도  10   \n",
       "4        4  18595141                      보디가드   8   \n",
       "..     ...       ...                       ...  ..   \n",
       "944      3  18594149                 아바타: 물의 길   4   \n",
       "945      4  18594147                 아바타: 물의 길  10   \n",
       "946      5  18594146                 아바타: 물의 길  10   \n",
       "947      6  18594145                 아바타: 물의 길   8   \n",
       "948      7  18594144                 아바타: 물의 길   9   \n",
       "\n",
       "                                                   감상평  \n",
       "0    진짜 오직 볼건 영상미가 끝이다. 다큐멘터리 3시간이다.스토리? 기대하지도 마셈. ...  \n",
       "1                                      무조건 3D 아맥으로 봐야됨  \n",
       "2    영상미는 역시나 훌륭하고 볼거리를 제공함.스토리나 재미는 없고 많이 지루함.. 특히...  \n",
       "3                     비록 제가 울진 않았지만, 연말에 보기좋은 소중한 영화예요  \n",
       "4                                      그때 그 시절의 감성이 믈씬  \n",
       "..                                                 ...  \n",
       "944  1편에서 너무 신선한 충격을 받아서일까요,13년을 손꼽아 기다렸는데 영상미는 훌륭했...  \n",
       "945        그냥 다 쩔었다! 오랜만에 완벽에 가까운 영화 본 느낌! 3부 잘 마무리해줘!  \n",
       "946             어려운 시기에 훌륭한 영화 만들어 주셔서 감사드립니다. 아름답습니다.  \n",
       "947                              CG로 표현할수있는 최대치무난한 스토리  \n",
       "948  역시나 좋았어요^^ 전투씬은 전작보다 규모가 작아졌다는 느낌을 받았는데, 물의 세계...  \n",
       "\n",
       "[949 rows x 5 columns]"
      ]
     },
     "execution_count": 157,
     "metadata": {},
     "output_type": "execute_result"
    }
   ],
   "source": [
    "# 정리 (속도개선)\n",
    "import pandas as pd\n",
    "import requests\n",
    "from tqdm import tqdm\n",
    "from multiprocessing import Pool\n",
    "import multiprocessing\n",
    "import datetime\n",
    "import warnings\n",
    "warnings.simplefilter(action=\"ignore\")\n",
    "\n",
    "multiprocessing.get_start_method()\n",
    "from multiprocessing import get_context\n",
    "\n",
    "\n",
    "def collect_naver_review(page):\n",
    "    df = pd.DataFrame(columns=[\"번호\", \"제목\", \"평점\", \"감상평\"])\n",
    "    naver_mov = f\"https://movie.naver.com/movie/point/af/list.naver?&page={page}\"\n",
    "    naver_req = requests.get(naver_mov)\n",
    "    table_pd = pd.read_html(naver_req.text)\n",
    "\n",
    "    for i in range(10):\n",
    "        try:      # try except는 예외 처리시 사용\n",
    "            name = table_pd[0][\"감상평\"][i].split(\"  별점 - 총 10점 중\")[0]\n",
    "            data = table_pd[0][\"감상평\"][i].split(\"  별점 - 총 10점 중\")[1][:-3].split(\"  \")\n",
    "            index = table_pd[0][\"번호\"][i]\n",
    "            if len(data) == 2:\n",
    "                df = df.append({\"번호\":int(index), \"제목\": name, \"평점\": int(data[0]), \"감상평\": data[1]}, ignore_index=True)\n",
    "        except:\n",
    "            pass\n",
    "    return df\n",
    "\n",
    "\n",
    "pool = get_context(\"fork\").Pool(processes=4)\n",
    "inputs = range(1,100)\n",
    "\n",
    "results = []\n",
    "# imap_unordered vs map ??\n",
    "\n",
    "for result in tqdm(pool.imap_unordered(collect_naver_review, inputs), total=len(inputs)):\n",
    "    results.append(result)\n",
    "\n",
    "# for result in tqdm(pool.map(collect_naver_review, inputs), total=len(inputs)):\n",
    "#     results.append(result)\n",
    "    \n",
    "naver_df = pd.concat(results, axis=0).reset_index()\n",
    "naver_df.to_csv(f\"{datetime.date.today()}.csv\")\n",
    "\n",
    "naver_df\n"
   ]
  },
  {
   "cell_type": "code",
   "execution_count": null,
   "metadata": {},
   "outputs": [
    {
     "name": "stderr",
     "output_type": "stream",
     "text": [
      "100%|██████████| 100/100 [00:12<00:00,  8.00it/s]\n"
     ]
    },
    {
     "data": {
      "text/html": [
       "<div>\n",
       "<style scoped>\n",
       "    .dataframe tbody tr th:only-of-type {\n",
       "        vertical-align: middle;\n",
       "    }\n",
       "\n",
       "    .dataframe tbody tr th {\n",
       "        vertical-align: top;\n",
       "    }\n",
       "\n",
       "    .dataframe thead th {\n",
       "        text-align: right;\n",
       "    }\n",
       "</style>\n",
       "<table border=\"1\" class=\"dataframe\">\n",
       "  <thead>\n",
       "    <tr style=\"text-align: right;\">\n",
       "      <th></th>\n",
       "      <th>번호</th>\n",
       "      <th>제목</th>\n",
       "      <th>평점</th>\n",
       "      <th>감상평</th>\n",
       "    </tr>\n",
       "  </thead>\n",
       "  <tbody>\n",
       "    <tr>\n",
       "      <th>0</th>\n",
       "      <td>18594106</td>\n",
       "      <td>아바타: 물의 길</td>\n",
       "      <td>10</td>\n",
       "      <td>190분동안의 러닝타임이였지만...1초도 지루하지않았고 너무너무 감동적이였다</td>\n",
       "    </tr>\n",
       "    <tr>\n",
       "      <th>1</th>\n",
       "      <td>18594105</td>\n",
       "      <td>아바타: 물의 길</td>\n",
       "      <td>10</td>\n",
       "      <td>후반부 세월호사건이 연상 되었는데그장면을 아름답게 풀어내는 장면에서가슴아프고 먹먹했...</td>\n",
       "    </tr>\n",
       "    <tr>\n",
       "      <th>2</th>\n",
       "      <td>18594104</td>\n",
       "      <td>아바타: 물의 길</td>\n",
       "      <td>8</td>\n",
       "      <td>영상미 10스토리7총점8점극장에서추천</td>\n",
       "    </tr>\n",
       "    <tr>\n",
       "      <th>3</th>\n",
       "      <td>18594103</td>\n",
       "      <td>아바타: 물의 길</td>\n",
       "      <td>10</td>\n",
       "      <td>내가뭘본건가....영화라부를수없는..</td>\n",
       "    </tr>\n",
       "    <tr>\n",
       "      <th>4</th>\n",
       "      <td>18594102</td>\n",
       "      <td>아바타: 물의 길</td>\n",
       "      <td>4</td>\n",
       "      <td>조조로 보러갔는데 아침 일찍 일어나서 그런지 2시간 이후부터 계속 졸았습니다. 영상...</td>\n",
       "    </tr>\n",
       "    <tr>\n",
       "      <th>...</th>\n",
       "      <td>...</td>\n",
       "      <td>...</td>\n",
       "      <td>...</td>\n",
       "      <td>...</td>\n",
       "    </tr>\n",
       "    <tr>\n",
       "      <th>995</th>\n",
       "      <td>18594101</td>\n",
       "      <td>아바타: 물의 길</td>\n",
       "      <td>10</td>\n",
       "      <td>말이 필요없다. 최고다.</td>\n",
       "    </tr>\n",
       "    <tr>\n",
       "      <th>996</th>\n",
       "      <td>18594100</td>\n",
       "      <td>아바타: 물의 길</td>\n",
       "      <td>9</td>\n",
       "      <td>판도라 행성을 배경으로 한 내셔널지오그래픽다큐멘터리!!</td>\n",
       "    </tr>\n",
       "    <tr>\n",
       "      <th>997</th>\n",
       "      <td>18594099</td>\n",
       "      <td>아바타: 물의 길</td>\n",
       "      <td>6</td>\n",
       "      <td>평점 낮게 줬다고 테러를 하네 ㅋㅋ 하여간 국민성 알아줘야되.. 일단 cg랑 비쥬얼...</td>\n",
       "    </tr>\n",
       "    <tr>\n",
       "      <th>998</th>\n",
       "      <td>18594098</td>\n",
       "      <td>아바타: 물의 길</td>\n",
       "      <td>8</td>\n",
       "      <td>아바타1에 비해서 감동은 덜했지만,영상미 대박이고 물의 길 다음이야기는 어떨지 궁금하네요</td>\n",
       "    </tr>\n",
       "    <tr>\n",
       "      <th>999</th>\n",
       "      <td>18594097</td>\n",
       "      <td>아바타: 물의 길</td>\n",
       "      <td>10</td>\n",
       "      <td>너무 경이롭고 아름다워서 눈물이 났다..아직도 바닷속에 있는 기분.</td>\n",
       "    </tr>\n",
       "  </tbody>\n",
       "</table>\n",
       "<p>1000 rows × 4 columns</p>\n",
       "</div>"
      ],
      "text/plain": [
       "           번호         제목  평점  \\\n",
       "0    18594106  아바타: 물의 길  10   \n",
       "1    18594105  아바타: 물의 길  10   \n",
       "2    18594104  아바타: 물의 길   8   \n",
       "3    18594103  아바타: 물의 길  10   \n",
       "4    18594102  아바타: 물의 길   4   \n",
       "..        ...        ...  ..   \n",
       "995  18594101  아바타: 물의 길  10   \n",
       "996  18594100  아바타: 물의 길   9   \n",
       "997  18594099  아바타: 물의 길   6   \n",
       "998  18594098  아바타: 물의 길   8   \n",
       "999  18594097  아바타: 물의 길  10   \n",
       "\n",
       "                                                   감상평  \n",
       "0           190분동안의 러닝타임이였지만...1초도 지루하지않았고 너무너무 감동적이였다  \n",
       "1    후반부 세월호사건이 연상 되었는데그장면을 아름답게 풀어내는 장면에서가슴아프고 먹먹했...  \n",
       "2                                 영상미 10스토리7총점8점극장에서추천  \n",
       "3                                 내가뭘본건가....영화라부를수없는..  \n",
       "4    조조로 보러갔는데 아침 일찍 일어나서 그런지 2시간 이후부터 계속 졸았습니다. 영상...  \n",
       "..                                                 ...  \n",
       "995                                      말이 필요없다. 최고다.  \n",
       "996                     판도라 행성을 배경으로 한 내셔널지오그래픽다큐멘터리!!  \n",
       "997  평점 낮게 줬다고 테러를 하네 ㅋㅋ 하여간 국민성 알아줘야되.. 일단 cg랑 비쥬얼...  \n",
       "998  아바타1에 비해서 감동은 덜했지만,영상미 대박이고 물의 길 다음이야기는 어떨지 궁금하네요  \n",
       "999              너무 경이롭고 아름다워서 눈물이 났다..아직도 바닷속에 있는 기분.  \n",
       "\n",
       "[1000 rows x 4 columns]"
      ]
     },
     "execution_count": 151,
     "metadata": {},
     "output_type": "execute_result"
    }
   ],
   "source": [
    "# 기존꺼\n",
    "\n",
    "\n",
    "df = pd.DataFrame(columns=['번호','제목','평점','감상평'])\n",
    "\n",
    "for j in tqdm(range(100)):\n",
    "    naver_mov = f'https://movie.naver.com/movie/point/af/list.naver?&page={j+1}'\n",
    "    naver_req = requests.get(url)\n",
    "    table_pd = pd.read_html(naver_req.text)\n",
    "\n",
    "\n",
    "    for i in range(10):\n",
    "        name = table_pd[0]['감상평'][i].split(\"  별점 - 총 10점 중\")[0]\n",
    "        data = table_pd[0]['감상평'][i].split(\"  별점 - 총 10점 중\")[1][:-3].split('  ')\n",
    "        index = table_pd[0]['번호'][i]\n",
    "        if len(data) == 2:\n",
    "            df = df.append({'번호':int(index), '제목':name, '평점': int(data[0]), '감상평': data[1]}, ignore_index= True)\n",
    "\n",
    "df\n",
    "       "
   ]
  },
  {
   "cell_type": "code",
   "execution_count": null,
   "metadata": {},
   "outputs": [],
   "source": []
  }
 ],
 "metadata": {
  "kernelspec": {
   "display_name": "webcrawling",
   "language": "python",
   "name": "python3"
  },
  "language_info": {
   "codemirror_mode": {
    "name": "ipython",
    "version": 3
   },
   "file_extension": ".py",
   "mimetype": "text/x-python",
   "name": "python",
   "nbconvert_exporter": "python",
   "pygments_lexer": "ipython3",
   "version": "3.10.8"
  },
  "orig_nbformat": 4,
  "vscode": {
   "interpreter": {
    "hash": "12b939deff3b02a6b70c1d23566a711eb25efc499a8abdda46e771a39b871736"
   }
  }
 },
 "nbformat": 4,
 "nbformat_minor": 2
}
